{
 "cells": [
  {
   "cell_type": "code",
   "execution_count": 74,
   "id": "f9d7ef69",
   "metadata": {},
   "outputs": [],
   "source": [
    "import pandas as pd\n",
    "from sklearn import datasets\n",
    "import numpy as np\n"
   ]
  },
  {
   "cell_type": "code",
   "execution_count": 75,
   "id": "b89f7b39",
   "metadata": {},
   "outputs": [],
   "source": [
    "irisdata = datasets.load_iris()\n",
    "df = pd.DataFrame(irisdata.data, columns=irisdata.feature_names)\n",
    "df[\"species\"] = irisdata.target_names[irisdata.target]\n",
    "\n",
    "\n"
   ]
  },
  {
   "cell_type": "code",
   "execution_count": 76,
   "id": "29bed664",
   "metadata": {},
   "outputs": [
    {
     "name": "stdout",
     "output_type": "stream",
     "text": [
      "species\n",
      "setosa        50\n",
      "versicolor    50\n",
      "virginica     50\n",
      "dtype: int64\n"
     ]
    }
   ],
   "source": [
    "print(df.groupby('species').size())\n",
    "\n"
   ]
  },
  {
   "cell_type": "code",
   "execution_count": 77,
   "id": "60c0c392",
   "metadata": {},
   "outputs": [
    {
     "name": "stdout",
     "output_type": "stream",
     "text": [
      "versicolor    35\n",
      "setosa        35\n",
      "virginica     35\n",
      "Name: species, dtype: int64\n",
      "setosa        15\n",
      "virginica     15\n",
      "versicolor    15\n",
      "Name: species, dtype: int64\n"
     ]
    }
   ],
   "source": [
    "X = df[['petal length (cm)', 'petal width (cm)']]\n",
    "y = df['species']\n",
    "from sklearn.model_selection import train_test_split\n",
    "X_train, X_test, y_train, y_test = train_test_split(X, y, test_size=0.30, random_state=1,stratify=y)\n",
    "\n",
    "#np.linspace() fill the gaps between the numbers\n",
    "\n",
    "# if variable y is a variable with values 0 and  \n",
    "# 1 and there are 20% of 0 and 80% of 1, \"stratify=y\"\n",
    "# will make the random split has 20% of 0 and 80% of 1.\n",
    "\n",
    "#X_train, X_test, y_train, y_test = train_test_split(X, y, test_size=0.30, shuffle=False)\n",
    "#This works because shuffle takes precedence over random_state and random_state is ignored.\n",
    "\n",
    "print(y_train.value_counts())\n",
    "print(y_test.value_counts())\n",
    "\n",
    "\n",
    "\n"
   ]
  },
  {
   "cell_type": "code",
   "execution_count": 81,
   "id": "f5db2bd4",
   "metadata": {},
   "outputs": [
    {
     "name": "stdout",
     "output_type": "stream",
     "text": [
      "['virginica' 'setosa' 'setosa' 'versicolor' 'versicolor']\n",
      "44\n",
      "45\n"
     ]
    }
   ],
   "source": [
    "from sklearn.neighbors import KNeighborsClassifier\n",
    "## instantiate \n",
    "knn = KNeighborsClassifier(n_neighbors=5)\n",
    "## fit \n",
    "knn.fit(X_train, y_train)\n",
    "#predict\n",
    "pred = knn.predict(X_test)\n",
    "print(pred[:5])\n",
    "\n",
    "#test\n",
    "print((pred==y_test.values).sum())\n",
    "print(y_test.size)\n",
    "\n"
   ]
  },
  {
   "cell_type": "code",
   "execution_count": 79,
   "id": "5c889a3a",
   "metadata": {},
   "outputs": [
    {
     "name": "stdout",
     "output_type": "stream",
     "text": [
      "R2: 0.9777777777777777\n",
      "R2knn:0.9777777777777777\n"
     ]
    }
   ],
   "source": [
    "#test percent\n",
    "print(f\"R2: {(pred==y_test.values).sum()/y_test.size}\")\n",
    "print(f\"R2knn:{(knn.score(X_test, y_test))}\")\n"
   ]
  },
  {
   "cell_type": "code",
   "execution_count": 80,
   "id": "9998715c",
   "metadata": {},
   "outputs": [
    {
     "name": "stdout",
     "output_type": "stream",
     "text": [
      "[[15  0  0]\n",
      " [ 0 15  0]\n",
      " [ 0  1 14]]\n"
     ]
    },
    {
     "data": {
      "image/png": "[encoded data removed]",
      "text/plain": [
       "<Figure size 432x288 with 2 Axes>"
      ]
     },
     "metadata": {
      "needs_background": "light"
     },
     "output_type": "display_data"
    }
   ],
   "source": [
    "#confusion matrix\n",
    "from sklearn.metrics import confusion_matrix \n",
    "print(confusion_matrix(y_test, pred))\n",
    "#vizualise conf. matrix\n",
    "import matplotlib.pyplot as plt\n",
    "from sklearn.metrics import plot_confusion_matrix\n",
    "plot_confusion_matrix(knn, X_test, y_test, cmap=plt.cm.GnBu)\n",
    "plt.show(block = False)"
   ]
  },
  {
   "cell_type": "code",
   "execution_count": 87,
   "id": "547f8253",
   "metadata": {},
   "outputs": [],
   "source": [
    "#k-fold cross validation\n",
    "from sklearn.model_selection import cross_val_score\n",
    "knn_cv = KNeighborsClassifier(n_neighbors=3)\n",
    "cv_scores = cross_val_score(knn_cv, X, y, cv=5)"
   ]
  },
  {
   "cell_type": "code",
   "execution_count": 88,
   "id": "13e1c604",
   "metadata": {},
   "outputs": [
    {
     "data": {
      "text/plain": [
       "KNeighborsClassifier(n_neighbors=4)"
      ]
     },
     "execution_count": 88,
     "metadata": {},
     "output_type": "execute_result"
    }
   ],
   "source": [
    "\n",
    "#tuning the hyperparameter\n",
    "#grid search\n",
    "from sklearn.model_selection import GridSearchCV\n",
    "# create new a knn model\n",
    "knn2 = KNeighborsClassifier()\n",
    "# create a dict of all values we want to test for n_neighbors\n",
    "param_grid = {'n_neighbors': np.arange(2, 10)}\n",
    "# use gridsearch to test all values for n_neighbors\n",
    "knn_gscv = GridSearchCV(knn2, param_grid, cv=5)\n",
    "#fit model to data\n",
    "knn_gscv.fit(X, y)\n",
    "\n",
    "knn_final = KNeighborsClassifier(n_neighbors=knn_gscv.best_params_['n_neighbors'])\n",
    "knn_final.fit(X, y)"
   ]
  },
  {
   "cell_type": "code",
   "execution_count": 69,
   "id": "2db4b0dd",
   "metadata": {},
   "outputs": [
    {
     "name": "stdout",
     "output_type": "stream",
     "text": [
      "['versicolor']\n"
     ]
    }
   ],
   "source": [
    "#check the prediciton\n",
    "new_data = np.array([3.76, 1.20])\n",
    "new_data = new_data.reshape(1, -1)\n",
    "print(knn_final.predict(new_data))\n",
    "\n",
    "#We can report that our final model, 4nn, has an accuracy of 97.3% in predicting the species of iris!"
   ]
  },
  {
   "cell_type": "code",
   "execution_count": null,
   "id": "1bd25a0a",
   "metadata": {},
   "outputs": [],
   "source": []
  }
 ],
 "metadata": {
  "kernelspec": {
   "display_name": "Python 3",
   "language": "python",
   "name": "python3"
  },
  "language_info": {
   "codemirror_mode": {
    "name": "ipython",
    "version": 3
   },
   "file_extension": ".py",
   "mimetype": "text/x-python",
   "name": "python",
   "nbconvert_exporter": "python",
   "pygments_lexer": "ipython3",
   "version": "3.8.10"
  }
 },
 "nbformat": 4,
 "nbformat_minor": 5
}
